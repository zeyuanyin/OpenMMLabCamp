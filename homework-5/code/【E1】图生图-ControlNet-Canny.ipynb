{
 "cells": [
  {
   "attachments": {},
   "cell_type": "markdown",
   "id": "8fdee633-9014-4d6b-ada0-5acf62f7228a",
   "metadata": {},
   "source": [
    "# 图生图-ControlNet-Canny\n",
    "\n",
    "同济子豪兄 2023-6-13\n",
    "\n",
    "MMagic文档：https://github.com/open-mmlab/mmagic/tree/main/configs/controlnet\n",
    "\n",
    "ControlNet官方Repo：https://github.com/lllyasviel/ControlNet"
   ]
  },
  {
   "attachments": {},
   "cell_type": "markdown",
   "id": "c31719b7-dee2-4df3-b1c3-566b10cfe8e1",
   "metadata": {},
   "source": [
    "## 进入 MMagic 主目录"
   ]
  },
  {
   "cell_type": "code",
   "execution_count": 1,
   "id": "560af927-513e-4b12-8d80-d1e963cdf914",
   "metadata": {},
   "outputs": [],
   "source": [
    "import os\n",
    "os.chdir('mmagic')"
   ]
  },
  {
   "cell_type": "code",
   "execution_count": 3,
   "id": "56d06957",
   "metadata": {},
   "outputs": [
    {
     "name": "stdout",
     "output_type": "stream",
     "text": [
      "/home/zeyuan.yin/OpenMMLabCamp/homework-5/code/mmagic\n"
     ]
    }
   ],
   "source": [
    "!pwd"
   ]
  },
  {
   "attachments": {},
   "cell_type": "markdown",
   "id": "47c326ac-cb9e-4f74-86fc-4fd005ecde1a",
   "metadata": {
    "tags": []
   },
   "source": [
    "## 导入工具包"
   ]
  },
  {
   "cell_type": "code",
   "execution_count": 2,
   "id": "6c20e460-2c2c-4fbb-b36d-b0432cd3dcb9",
   "metadata": {},
   "outputs": [
    {
     "name": "stderr",
     "output_type": "stream",
     "text": [
      "/home/zeyuan.yin/.conda/envs/mm/lib/python3.8/site-packages/tqdm/auto.py:21: TqdmWarning: IProgress not found. Please update jupyter and ipywidgets. See https://ipywidgets.readthedocs.io/en/stable/user_install.html\n",
      "  from .autonotebook import tqdm as notebook_tqdm\n",
      "The cache for model files in Transformers v4.22.0 has been updated. Migrating your old cache. This is a one-time only operation. You can interrupt this and resume the migration later on by calling `transformers.utils.move_cache()`.\n",
      "100%|██████████| 2/2 [00:00<00:00,  3.34it/s]\n"
     ]
    }
   ],
   "source": [
    "import cv2\n",
    "import numpy as np\n",
    "import mmcv\n",
    "from mmengine import Config\n",
    "from PIL import Image\n",
    "import mmagic\n",
    "from mmagic.registry import MODELS\n",
    "from mmagic.utils import register_all_modules\n",
    "\n",
    "register_all_modules()\n"
   ]
  },
  {
   "attachments": {},
   "cell_type": "markdown",
   "id": "a7576099-c20b-4a1b-9048-c45660bfec1c",
   "metadata": {},
   "source": [
    "## 载入ControlNet模型"
   ]
  },
  {
   "cell_type": "code",
   "execution_count": 3,
   "id": "8518a546-32bb-4456-84cb-c3618d2fae8e",
   "metadata": {},
   "outputs": [
    {
     "name": "stderr",
     "output_type": "stream",
     "text": [
      "Cannot initialize model with low cpu memory usage because `accelerate` was not found in the environment. Defaulting to `low_cpu_mem_usage=False`. It is strongly recommended to install `accelerate` for faster and less memory-intense model loading. You can do so with: \n",
      "```\n",
      "pip install accelerate\n",
      "```\n",
      ".\n"
     ]
    },
    {
     "name": "stderr",
     "output_type": "stream",
     "text": [
      "Downloading (…)ch_model.safetensors: 100%|██████████| 335M/335M [00:05<00:00, 58.7MB/s] \n",
      "Downloading (…)main/vae/config.json: 100%|██████████| 547/547 [00:00<00:00, 50.3kB/s]\n"
     ]
    },
    {
     "name": "stdout",
     "output_type": "stream",
     "text": [
      "06/17 02:32:33 - mmengine - \u001b[4m\u001b[97mINFO\u001b[0m - Set model dtype to 'torch.float32'.\n"
     ]
    },
    {
     "name": "stderr",
     "output_type": "stream",
     "text": [
      "Cannot initialize model with low cpu memory usage because `accelerate` was not found in the environment. Defaulting to `low_cpu_mem_usage=False`. It is strongly recommended to install `accelerate` for faster and less memory-intense model loading. You can do so with: \n",
      "```\n",
      "pip install accelerate\n",
      "```\n",
      ".\n",
      "Downloading (…)ch_model.safetensors: 100%|██████████| 3.44G/3.44G [00:58<00:00, 58.8MB/s]\n",
      "Downloading (…)ain/unet/config.json: 100%|██████████| 743/743 [00:00<00:00, 123kB/s]\n",
      "Downloading (…)cheduler_config.json: 100%|██████████| 308/308 [00:00<00:00, 25.4kB/s]\n",
      "Downloading (…)_encoder/config.json: 100%|██████████| 617/617 [00:00<00:00, 260kB/s]\n",
      "Downloading model.safetensors: 100%|██████████| 492M/492M [00:11<00:00, 44.5MB/s] \n"
     ]
    },
    {
     "name": "stdout",
     "output_type": "stream",
     "text": [
      "06/17 02:34:04 - mmengine - \u001b[4m\u001b[97mINFO\u001b[0m - Creating runwayml/stable-diffusion-v1-5 by 'HuggingFace'\n"
     ]
    },
    {
     "name": "stderr",
     "output_type": "stream",
     "text": [
      "Downloading (…)tokenizer/vocab.json: 100%|██████████| 1.06M/1.06M [00:00<00:00, 1.32MB/s]\n",
      "Downloading (…)tokenizer/merges.txt: 100%|██████████| 525k/525k [00:00<00:00, 877kB/s]\n",
      "Downloading (…)cial_tokens_map.json: 100%|██████████| 472/472 [00:00<00:00, 172kB/s]\n",
      "Downloading (…)okenizer_config.json: 100%|██████████| 806/806 [00:00<00:00, 323kB/s]\n",
      "Cannot initialize model with low cpu memory usage because `accelerate` was not found in the environment. Defaulting to `low_cpu_mem_usage=False`. It is strongly recommended to install `accelerate` for faster and less memory-intense model loading. You can do so with: \n",
      "```\n",
      "pip install accelerate\n",
      "```\n",
      ".\n"
     ]
    },
    {
     "name": "stdout",
     "output_type": "stream",
     "text": [
      "Do not support Xformers. Please install Xformers first. The program will run without Xformers.\n"
     ]
    },
    {
     "name": "stderr",
     "output_type": "stream",
     "text": [
      "Downloading (…)ch_model.safetensors: 100%|██████████| 1.45G/1.45G [01:10<00:00, 20.6MB/s]\n",
      "Downloading (…)lve/main/config.json: 100%|██████████| 920/920 [00:00<00:00, 408kB/s]\n"
     ]
    },
    {
     "name": "stdout",
     "output_type": "stream",
     "text": [
      "06/17 02:35:26 - mmengine - \u001b[4m\u001b[97mINFO\u001b[0m - Set model dtype to 'torch.float32'.\n",
      "Do not support Xformers. Please install Xformers first. The program will run without Xformers.\n"
     ]
    }
   ],
   "source": [
    "cfg = Config.fromfile('configs/controlnet/controlnet-canny.py')\n",
    "controlnet = MODELS.build(cfg.model).cuda()"
   ]
  },
  {
   "attachments": {},
   "cell_type": "markdown",
   "id": "4c3b870a-bb9d-42b3-88d2-2ed28f306788",
   "metadata": {},
   "source": [
    "## 输入Canny边缘图"
   ]
  },
  {
   "cell_type": "code",
   "execution_count": 12,
   "id": "7c0fe370-83b4-4802-a3d6-9e562b3d4117",
   "metadata": {},
   "outputs": [],
   "source": [
    "control_url = 'room.png'\n",
    "control_img = mmcv.imread(control_url)\n",
    "control = cv2.Canny(control_img, 100, 200)\n",
    "control = control[:, :, None]\n",
    "control = np.concatenate([control] * 3, axis=2)\n",
    "control = Image.fromarray(control)"
   ]
  },
  {
   "cell_type": "code",
   "execution_count": 5,
   "id": "e4bc31da-1761-4345-9286-a9c0aef7e027",
   "metadata": {},
   "outputs": [],
   "source": [
    "# control"
   ]
  },
  {
   "attachments": {},
   "cell_type": "markdown",
   "id": "2e877871-65b3-4138-9c86-0ed53573c2a3",
   "metadata": {},
   "source": [
    "## 咒语Prompt"
   ]
  },
  {
   "cell_type": "code",
   "execution_count": 23,
   "id": "bc0f5065-86d2-49dd-82bc-bd4c78d5f366",
   "metadata": {},
   "outputs": [],
   "source": [
    "prompt = 'Room with white ceiling, wooden style, a big window and beautiful scenery outside the windows.'"
   ]
  },
  {
   "attachments": {},
   "cell_type": "markdown",
   "id": "b09e0ec1-13ae-4cc6-85ea-c7c43e5378f9",
   "metadata": {},
   "source": [
    "## 执行预测"
   ]
  },
  {
   "cell_type": "code",
   "execution_count": 25,
   "id": "c58640b1-548b-4df2-b137-39a84108c899",
   "metadata": {},
   "outputs": [
    {
     "name": "stderr",
     "output_type": "stream",
     "text": [
      "100%|██████████| 20/20 [00:11<00:00,  1.78it/s]\n"
     ]
    }
   ],
   "source": [
    "for i in range(10):\n",
    "    output_dict = controlnet.infer(prompt, control=control)\n",
    "    samples = output_dict['samples']\n",
    "    for idx, sample in enumerate(samples):\n",
    "        sample.save(f'../../test_img/sample_{idx}_{i}.png')\n",
    "\n",
    "controls = output_dict['controls']\n",
    "for idx, control in enumerate(controls):\n",
    "    control.save(f'control_{idx}.png')"
   ]
  },
  {
   "cell_type": "code",
   "execution_count": null,
   "id": "71e39a40-c5ed-4496-b58d-d109f410b586",
   "metadata": {},
   "outputs": [],
   "source": []
  }
 ],
 "metadata": {
  "kernelspec": {
   "display_name": "Python 3 (ipykernel)",
   "language": "python",
   "name": "python3"
  },
  "language_info": {
   "codemirror_mode": {
    "name": "ipython",
    "version": 3
   },
   "file_extension": ".py",
   "mimetype": "text/x-python",
   "name": "python",
   "nbconvert_exporter": "python",
   "pygments_lexer": "ipython3",
   "version": "3.8.16"
  }
 },
 "nbformat": 4,
 "nbformat_minor": 5
}
