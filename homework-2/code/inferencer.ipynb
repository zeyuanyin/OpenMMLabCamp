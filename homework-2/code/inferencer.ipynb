{
 "cells": [
  {
   "cell_type": "code",
   "execution_count": 4,
   "metadata": {},
   "outputs": [
    {
     "data": {
      "text/html": [
       "<pre style=\"white-space:pre;overflow-x:auto;line-height:normal;font-family:Menlo,'DejaVu Sans Mono',consolas,'Courier New',monospace\">Loads checkpoint by local backend from path: ../log/train_lr0.01_epoch10/epoch_10.pth\n",
       "</pre>\n"
      ],
      "text/plain": [
       "Loads checkpoint by local backend from path: ../log/train_lr0.01_epoch10/epoch_10.pth\n"
      ]
     },
     "metadata": {},
     "output_type": "display_data"
    },
    {
     "data": {
      "text/plain": [
       "[{'pred_scores': array([3.29711050e-08, 2.58565397e-05, 2.81591014e-07, 7.11967118e-07,\n",
       "         1.04445906e-04, 1.66538794e-05, 3.97861697e-07, 6.00087922e-04,\n",
       "         1.60995592e-06, 2.46083516e-07, 7.46888702e-08, 1.69261602e-05,\n",
       "         7.04966794e-07, 2.15075229e-08, 2.00827216e-07, 3.23365782e-07,\n",
       "         3.02836306e-05, 2.49538493e-06, 4.76842943e-05, 9.98917460e-01,\n",
       "         4.02113619e-06, 4.95819279e-07, 2.85665010e-07, 9.65633808e-06,\n",
       "         3.08950888e-07, 1.34541108e-06, 1.86522317e-04, 1.79758899e-05,\n",
       "         5.97297358e-08, 1.28730217e-05], dtype=float32),\n",
       "  'pred_label': 19,\n",
       "  'pred_score': 0.9989174604415894,\n",
       "  'pred_class': '苹果-青'},\n",
       " {'pred_scores': array([4.61215641e-05, 6.40035083e-04, 1.20417704e-03, 2.35501509e-02,\n",
       "         5.37651442e-02, 4.67822218e-04, 1.18530891e-03, 5.67966187e-03,\n",
       "         2.02369466e-02, 6.93577167e-04, 2.36855689e-04, 1.75154256e-03,\n",
       "         7.68452359e-04, 5.15819338e-05, 5.41449897e-03, 1.29579473e-03,\n",
       "         4.44776490e-02, 3.15966026e-05, 7.78569162e-01, 4.69172234e-03,\n",
       "         7.21592410e-03, 2.49086157e-03, 5.30598300e-05, 1.14459166e-04,\n",
       "         3.51052295e-04, 1.63392408e-03, 4.81810467e-03, 3.78983766e-02,\n",
       "         8.16523461e-05, 5.84738213e-04], dtype=float32),\n",
       "  'pred_label': 18,\n",
       "  'pred_score': 0.7785691618919373,\n",
       "  'pred_class': '苹果-红'}]"
      ]
     },
     "execution_count": 4,
     "metadata": {},
     "output_type": "execute_result"
    }
   ],
   "source": [
    "from mmpretrain import ImageClassificationInferencer\n",
    "\n",
    "inferencer = ImageClassificationInferencer('./configs/resnet50_8xb32_fruit30.py', pretrained='../log/train_lr0.01_epoch10/epoch_10.pth', device='cuda:0')\n",
    "\n",
    "inferencer(['../test_img/green_apple.jpg','../test_img/red_apple.jpg'], show_dir=\"../test_img\")\n"
   ]
  }
 ],
 "metadata": {
  "kernelspec": {
   "display_name": "Python 3",
   "language": "python",
   "name": "python3"
  },
  "language_info": {
   "codemirror_mode": {
    "name": "ipython",
    "version": 3
   },
   "file_extension": ".py",
   "mimetype": "text/x-python",
   "name": "python",
   "nbconvert_exporter": "python",
   "pygments_lexer": "ipython3",
   "version": "3.8.16"
  },
  "orig_nbformat": 4
 },
 "nbformat": 4,
 "nbformat_minor": 2
}
