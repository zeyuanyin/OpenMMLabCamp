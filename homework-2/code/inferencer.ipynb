{
 "cells": [
  {
   "cell_type": "code",
   "execution_count": 4,
   "metadata": {},
   "outputs": [
    {
     "data": {
      "text/html": [
       "<pre style=\"white-space:pre;overflow-x:auto;line-height:normal;font-family:Menlo,'DejaVu Sans Mono',consolas,'Courier New',monospace\">Loads checkpoint by local backend from path: ../log/train_lr0.01_epoch10/epoch_10.pth\n",
       "</pre>\n"
      ],
      "text/plain": [
       "Loads checkpoint by local backend from path: ../log/train_lr0.01_epoch10/epoch_10.pth\n"
      ]
     },
     "metadata": {},
     "output_type": "display_data"
    },
    {
     "ename": "AttributeError",
     "evalue": "'dict' object has no attribute 'save'",
     "output_type": "error",
     "traceback": [
      "\u001b[0;31m---------------------------------------------------------------------------\u001b[0m",
      "\u001b[0;31mAttributeError\u001b[0m                            Traceback (most recent call last)",
      "Cell \u001b[0;32mIn[4], line 9\u001b[0m\n\u001b[1;32m      7\u001b[0m \u001b[39mfor\u001b[39;00m i, result_image \u001b[39min\u001b[39;00m \u001b[39menumerate\u001b[39m(result_images):\n\u001b[1;32m      8\u001b[0m     save_path \u001b[39m=\u001b[39m \u001b[39mf\u001b[39m\u001b[39m'\u001b[39m\u001b[39m../test_img/result_\u001b[39m\u001b[39m{\u001b[39;00mi\u001b[39m}\u001b[39;00m\u001b[39m.jpg\u001b[39m\u001b[39m'\u001b[39m\n\u001b[0;32m----> 9\u001b[0m     result_image\u001b[39m.\u001b[39;49msave(save_path)\n",
      "\u001b[0;31mAttributeError\u001b[0m: 'dict' object has no attribute 'save'"
     ]
    }
   ],
   "source": [
    "from mmpretrain import ImageClassificationInferencer\n",
    "\n",
    "inferencer = ImageClassificationInferencer('./configs/resnet50_8xb32_fruit30.py', pretrained='../log/train_lr0.01_epoch10/epoch_10.pth', device='cuda:0')\n",
    "\n",
    "inferencer(['../test_img/green_apple.jpg','../test_img/red_apple.jpg'], show_dir=\"../test_img\")\n"
   ]
  }
 ],
 "metadata": {
  "kernelspec": {
   "display_name": "Python 3",
   "language": "python",
   "name": "python3"
  },
  "language_info": {
   "codemirror_mode": {
    "name": "ipython",
    "version": 3
   },
   "file_extension": ".py",
   "mimetype": "text/x-python",
   "name": "python",
   "nbconvert_exporter": "python",
   "pygments_lexer": "ipython3",
   "version": "3.8.16"
  },
  "orig_nbformat": 4
 },
 "nbformat": 4,
 "nbformat_minor": 2
}
